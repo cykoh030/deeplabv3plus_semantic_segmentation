{
 "cells": [
  {
   "cell_type": "code",
   "execution_count": 1,
   "metadata": {},
   "outputs": [],
   "source": [
    "import os\n",
    "os.environ[\"TF_CPP_MIN_LOG_LEVEL\"] = \"2\"\n",
    "\n",
    "import numpy as np\n",
    "import cv2\n",
    "import pandas as pd\n",
    "from glob import glob\n",
    "from tqdm import tqdm\n",
    "import tensorflow as tf\n",
    "from tensorflow.keras.utils import CustomObjectScope\n",
    "from sklearn.metrics import accuracy_score, f1_score, jaccard_score, precision_score, recall_score\n",
    "from metrics import dice_loss, dice_coef, iou\n",
    "from train import load_data"
   ]
  },
  {
   "cell_type": "code",
   "execution_count": 2,
   "metadata": {},
   "outputs": [],
   "source": [
    "\"\"\" Global parameters \"\"\"\n",
    "H = 512\n",
    "W = 512\n",
    "\n",
    "\"\"\" Creating a directory \"\"\"\n",
    "def create_dir(path):\n",
    "    if not os.path.exists(path):\n",
    "        os.makedirs(path)\n",
    "\n",
    "def save_results(image, mask, y_pred, save_image_path):\n",
    "    line = np.ones((H, 10, 3)) * 128\n",
    "\n",
    "    mask = np.expand_dims(mask, axis=-1) ## (512, 512, 1)\n",
    "    mask = np.concatenate([mask, mask, mask], axis=-1) ## (512, 512, 3)\n",
    "    mask = mask * 255\n",
    "\n",
    "    y_pred = np.expand_dims(y_pred, axis=-1)\n",
    "    y_pred = np.concatenate([y_pred, y_pred, y_pred], axis=-1)\n",
    "\n",
    "    masked_image = image * y_pred\n",
    "    y_pred = y_pred * 255\n",
    "\n",
    "    cat_images = np.concatenate([image, line, mask, line, y_pred,line, masked_image], axis=1)\n",
    "    cv2.imwrite(save_image_path, cat_images)"
   ]
  },
  {
   "cell_type": "code",
   "execution_count": 3,
   "metadata": {},
   "outputs": [
    {
     "name": "stderr",
     "output_type": "stream",
     "text": [
      "  0%|          | 0/567 [00:00<?, ?it/s]"
     ]
    },
    {
     "name": "stdout",
     "output_type": "stream",
     "text": [
      "Test: 567 - 567\n"
     ]
    },
    {
     "name": "stderr",
     "output_type": "stream",
     "text": [
      " 38%|███▊      | 216/567 [01:44<02:22,  2.47it/s]C:\\Users\\kcy96\\anaconda3\\envs\\cy\\lib\\site-packages\\sklearn\\metrics\\_classification.py:1221: UndefinedMetricWarning: Precision is ill-defined and being set to 0.0 due to no predicted samples. Use `zero_division` parameter to control this behavior.\n",
      "  _warn_prf(average, modifier, msg_start, len(result))\n",
      "100%|██████████| 567/567 [04:21<00:00,  2.17it/s]"
     ]
    },
    {
     "name": "stdout",
     "output_type": "stream",
     "text": [
      "Accuracy: 0.94382\n",
      "F1: 0.90504\n",
      "Jaccard: 0.85038\n",
      "Recall: 0.90846\n",
      "Precision: 0.92337\n"
     ]
    },
    {
     "name": "stderr",
     "output_type": "stream",
     "text": [
      "\n"
     ]
    }
   ],
   "source": [
    "\"\"\" Seeding \"\"\"\n",
    "np.random.seed(42)\n",
    "tf.random.set_seed(42)\n",
    "\n",
    "\"\"\" Directory for string files \"\"\"\n",
    "create_dir('results')\n",
    "\n",
    "\"\"\" Loading model \"\"\"\n",
    "with CustomObjectScope({'iou': iou, 'dice_coef': dice_coef, 'dice_loss': dice_loss}):\n",
    "  model = tf.keras.models.load_model(\"files\\\\model.h5\")\n",
    "  \n",
    "\"\"\" Load the dataset \"\"\"\n",
    "dataset_path = \"new_data\"\n",
    "valid_path = os.path.join(dataset_path, \"test\")\n",
    "test_x, test_y = load_data(valid_path)\n",
    "print(f\"Test: {len(test_x)} - {len(test_y)}\")\n",
    "\n",
    "\"\"\" Evaluation and Prediction \"\"\"\n",
    "SCORE = []\n",
    "for x, y in tqdm(zip(test_x, test_y), total=len(test_x)):\n",
    "  \"\"\" Extract the name \"\"\"\n",
    "  name = x.split(\"\\\\\")[-1].split(\".\")[0]\n",
    "  # print(name)\n",
    "\n",
    "  \"\"\" Reading the image \"\"\"\n",
    "  image = cv2.imread(x, cv2.IMREAD_COLOR)\n",
    "  x = image/255.0\n",
    "  # print(x.shape)\n",
    "  x = np.expand_dims(x, axis=0)\n",
    "  # print(x.shape)\n",
    "\n",
    "  \"\"\" Reading the mask \"\"\"\n",
    "  mask = cv2.imread(y, cv2.IMREAD_GRAYSCALE)\n",
    "\n",
    "  \"\"\" Prediction \"\"\"\n",
    "  y_pred = model.predict(x)[0]\n",
    "  y_pred = np.squeeze(y_pred, axis=-1)\n",
    "  y_pred = y_pred > 0.5\n",
    "  y_pred = y_pred.astype(np.int32)\n",
    "\n",
    "  \"\"\" Saving the prediction \"\"\"\n",
    "  save_image_path = f'results\\\\{name}.png'\n",
    "  save_results(image, mask, y_pred, save_image_path)\n",
    "\n",
    "  \"\"\" Flatten the array \"\"\"\n",
    "  mask = mask.flatten()\n",
    "  y_pred = y_pred.flatten()\n",
    "\n",
    "  \"\"\" Calculate the metrics values \"\"\"\n",
    "  acc_value = accuracy_score(mask, y_pred)\n",
    "  f1_value = f1_score(mask, y_pred, labels=[0, 1], average='binary')\n",
    "  jac_value = jaccard_score(mask, y_pred, labels=[0, 1], average='binary')\n",
    "  recall_value = recall_score(mask, y_pred, labels=[0, 1], average='binary')\n",
    "  precision_value = precision_score(mask, y_pred, labels=[0, 1], average='binary')\n",
    "  SCORE.append([name, acc_value, f1_value, jac_value, recall_value, precision_value])\n",
    "\n",
    "\n",
    "\"\"\" Metrics values \"\"\"\n",
    "score = [s[1:]for s in SCORE]\n",
    "score = np.mean(score, axis=0)\n",
    "print(f\"Accuracy: {score[0]:0.5f}\")\n",
    "print(f\"F1: {score[1]:0.5f}\")\n",
    "print(f\"Jaccard: {score[2]:0.5f}\")\n",
    "print(f\"Recall: {score[3]:0.5f}\")\n",
    "print(f\"Precision: {score[4]:0.5f}\")\n",
    "\n",
    "df = pd.DataFrame(SCORE, columns=[\"Image\", \"Accuracy\", \"F1\", \"Jaccard\", \"Recall\", \"Precision\"])\n",
    "df.to_csv(\"files/score.csv\")"
   ]
  },
  {
   "cell_type": "code",
   "execution_count": null,
   "metadata": {},
   "outputs": [],
   "source": []
  }
 ],
 "metadata": {
  "interpreter": {
   "hash": "e78a27202c5b879b5132bbbd63048d5c4acc9e94320747b7694e655d3af57428"
  },
  "kernelspec": {
   "display_name": "Python 3.8.5 64-bit ('cy': conda)",
   "language": "python",
   "name": "python3"
  },
  "language_info": {
   "codemirror_mode": {
    "name": "ipython",
    "version": 3
   },
   "file_extension": ".py",
   "mimetype": "text/x-python",
   "name": "python",
   "nbconvert_exporter": "python",
   "pygments_lexer": "ipython3",
   "version": "3.8.5"
  },
  "orig_nbformat": 4
 },
 "nbformat": 4,
 "nbformat_minor": 2
}
