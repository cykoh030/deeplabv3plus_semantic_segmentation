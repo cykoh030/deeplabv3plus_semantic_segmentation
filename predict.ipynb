{
 "cells": [
  {
   "cell_type": "code",
   "execution_count": 5,
   "metadata": {},
   "outputs": [],
   "source": [
    "import os\n",
    "os.environ[\"TF_CPP_MIN_LOG_LEVEL\"] = \"2\"\n",
    "\n",
    "import numpy as np\n",
    "import cv2\n",
    "import pandas as pd\n",
    "from glob import glob\n",
    "from tqdm import tqdm\n",
    "import tensorflow as tf\n",
    "from tensorflow.keras.utils import CustomObjectScope\n",
    "from metrics import dice_loss, dice_coef, iou\n",
    "from train import create_dir\n",
    "\n",
    "\"\"\" Global parameters \"\"\"\n",
    "H = 512\n",
    "W = 512"
   ]
  },
  {
   "cell_type": "code",
   "execution_count": 8,
   "metadata": {},
   "outputs": [
    {
     "name": "stderr",
     "output_type": "stream",
     "text": [
      "100%|██████████| 5/5 [00:09<00:00,  1.82s/it]\n"
     ]
    }
   ],
   "source": [
    "\"\"\" Seeding \"\"\"\n",
    "np.random.seed(42)\n",
    "tf.random.set_seed(42)\n",
    "\n",
    "\"\"\" Directory for storing files \"\"\"\n",
    "create_dir(\"test_images\\\\mask\")\n",
    "\n",
    "\"\"\" Loading model \"\"\"\n",
    "with CustomObjectScope({'iou': iou, 'dice_coef': dice_coef, 'dice_loss': dice_loss}):\n",
    "    model = tf.keras.models.load_model(\"files\\\\model.h5\")\n",
    "\n",
    "\"\"\" Load dataset \"\"\"\n",
    "data_x = glob(\"test_images\\\\image\\\\*\")\n",
    "\n",
    "for path in tqdm(data_x, total=len(data_x)):\n",
    "  \"\"\" Extract the name \"\"\"\n",
    "  name = path.split(\"\\\\\")[-1].split(\".\")[0]\n",
    "\n",
    "  \"\"\" Reading the image \"\"\"\n",
    "  image = cv2.imread(path, cv2.IMREAD_COLOR)\n",
    "  h, w, _ = image.shape\n",
    "  x = cv2.resize(image, (W, H))\n",
    "  x = x/255.0\n",
    "  x = x.astype(np.float32)\n",
    "  x = np.expand_dims(x, axis=0)\n",
    "\n",
    "  \"\"\" Prediction \"\"\"\n",
    "  y = model.predict(x)[0]\n",
    "  y = cv2.resize(y, (w, h))\n",
    "  y = np.expand_dims(y, axis=-1)\n",
    "\n",
    "  \"\"\" Save the image \"\"\"\n",
    "  masked_image = image * y\n",
    "  line = np.ones((h, 10, 3)) * 128\n",
    "  cat_images = np.concatenate([image, line, masked_image], axis=1)\n",
    "  cv2.imwrite(f\"test_images\\\\mask\\\\{name}.png\", cat_images)"
   ]
  },
  {
   "cell_type": "code",
   "execution_count": null,
   "metadata": {},
   "outputs": [],
   "source": []
  }
 ],
 "metadata": {
  "interpreter": {
   "hash": "e78a27202c5b879b5132bbbd63048d5c4acc9e94320747b7694e655d3af57428"
  },
  "kernelspec": {
   "display_name": "Python 3.8.5 64-bit ('cy': conda)",
   "language": "python",
   "name": "python3"
  },
  "language_info": {
   "codemirror_mode": {
    "name": "ipython",
    "version": 3
   },
   "file_extension": ".py",
   "mimetype": "text/x-python",
   "name": "python",
   "nbconvert_exporter": "python",
   "pygments_lexer": "ipython3",
   "version": "3.8.5"
  },
  "orig_nbformat": 4
 },
 "nbformat": 4,
 "nbformat_minor": 2
}
